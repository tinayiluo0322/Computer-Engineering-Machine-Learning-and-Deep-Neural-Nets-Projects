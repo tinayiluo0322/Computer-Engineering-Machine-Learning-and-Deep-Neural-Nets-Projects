{
  "cells": [
    {
      "cell_type": "markdown",
      "metadata": {
        "id": "view-in-github",
        "colab_type": "text"
      },
      "source": [
        "<a href=\"https://colab.research.google.com/github/tinayiluo0322/Computer-Engineering-Machine-Learning-and-Deep-Neural-Nets-Projects/blob/main/Construct_Train_Optimize_CNN_Models/simplenn_cifar10_data_augmentation.ipynb\" target=\"_parent\"><img src=\"https://colab.research.google.com/assets/colab-badge.svg\" alt=\"Open In Colab\"/></a>"
      ]
    },
    {
      "cell_type": "markdown",
      "metadata": {
        "id": "FHU0uE10-zfR"
      },
      "source": [
        "# Optimizing SimpleNN on CIFAR-10\n",
        "\n",
        "#### Luopeiwen Yi\n"
      ]
    },
    {
      "cell_type": "code",
      "source": [
        "from google.colab import drive\n",
        "drive.mount('/content/drive')"
      ],
      "metadata": {
        "colab": {
          "base_uri": "https://localhost:8080/"
        },
        "id": "AT2V-hEjUgCL",
        "outputId": "d99d745a-c399-4173-bbec-70b4b79e4f17"
      },
      "execution_count": 1,
      "outputs": [
        {
          "output_type": "stream",
          "name": "stdout",
          "text": [
            "Mounted at /content/drive\n"
          ]
        }
      ]
    },
    {
      "cell_type": "code",
      "source": [
        "import sys\n",
        "import os"
      ],
      "metadata": {
        "id": "6c_9k29BVqpd"
      },
      "execution_count": 2,
      "outputs": []
    },
    {
      "cell_type": "code",
      "source": [
        "# Change this to the absolute path where dataset.py and utils.py are stored\n",
        "CODE_PATH = \"/content/drive/MyDrive/CNN_hw\"\n",
        "\n",
        "# Add this path to sys.path so Python can find it\n",
        "sys.path.append(CODE_PATH)\n",
        "\n",
        "# Check if Colab can see the files\n",
        "print(\"Files in directory:\", os.listdir(CODE_PATH))"
      ],
      "metadata": {
        "colab": {
          "base_uri": "https://localhost:8080/"
        },
        "id": "Y93THHD5Ul8F",
        "outputId": "47701ae4-8416-4d64-a16a-cdde4d029aaa"
      },
      "execution_count": 3,
      "outputs": [
        {
          "output_type": "stream",
          "name": "stdout",
          "text": [
            "Files in directory: ['sample_predictions.csv', 'save_test_predictions.ipynb', '__pycache__', 'tools', 'simplenn-cifar10.ipynb']\n"
          ]
        }
      ]
    },
    {
      "cell_type": "markdown",
      "metadata": {
        "id": "o5hTIizt-zfS"
      },
      "source": [
        "# Optimization 1: Data Augmentation\n",
        "\n",
        "## Step 1: Build the model\n"
      ]
    },
    {
      "cell_type": "code",
      "execution_count": 4,
      "metadata": {
        "id": "TwB63cqB-zfS"
      },
      "outputs": [],
      "source": [
        "# import necessary dependencies\n",
        "import argparse\n",
        "import os, sys\n",
        "import time\n",
        "import datetime\n",
        "from tqdm import tqdm_notebook as tqdm\n",
        "\n",
        "import torch\n",
        "import torch.nn as nn\n",
        "import torch.nn.functional as F"
      ]
    },
    {
      "cell_type": "code",
      "execution_count": 5,
      "metadata": {
        "id": "LjnAHdxy-zfT"
      },
      "outputs": [],
      "source": [
        "# define the SimpleNN mode;\n",
        "class SimpleNN(nn.Module):\n",
        "    def __init__(self):\n",
        "        super(SimpleNN, self).__init__()\n",
        "        self.conv1 = nn.Conv2d(3, 8, 5)\n",
        "        self.conv2 = nn.Conv2d(8, 16, 3)\n",
        "        self.fc1   = nn.Linear(16*6*6, 120)\n",
        "        self.fc2   = nn.Linear(120, 84)\n",
        "        self.fc3   = nn.Linear(84, 10)\n",
        "\n",
        "    def forward(self, x):\n",
        "        out = F.relu(self.conv1(x))\n",
        "        out = F.max_pool2d(out, 2)\n",
        "        out = F.relu(self.conv2(out))\n",
        "        out = F.max_pool2d(out, 2)\n",
        "        out = out.view(out.size(0), -1)\n",
        "        out = F.relu(self.fc1(out))\n",
        "        out = F.relu(self.fc2(out))\n",
        "        out = self.fc3(out)\n",
        "        return out"
      ]
    },
    {
      "cell_type": "markdown",
      "metadata": {
        "id": "G2dWCG-f-zfT"
      },
      "source": [
        "### Sanity Check"
      ]
    },
    {
      "cell_type": "code",
      "source": [
        "# Define the SimpleNN model\n",
        "model = SimpleNN()\n",
        "\n",
        "# Create a dummy input tensor with the same shape as CIFAR-10 images (batch_size=1, channels=3, height=32, width=32)\n",
        "dummy_input = torch.randn(1, 3, 32, 32)  # Shape: (1, 3, 32, 32)\n",
        "\n",
        "# Pass the dummy input through the model\n",
        "output = model(dummy_input)\n",
        "\n",
        "# Check the output shape\n",
        "print(f\"Output shape: {output.shape}\")  # Should be (1, 10) since we have 10 classes\n",
        "\n",
        "# Count total number of parameters\n",
        "total_params = sum(p.numel() for p in model.parameters())\n",
        "print(f\"Total number of parameters: {total_params}\")"
      ],
      "metadata": {
        "colab": {
          "base_uri": "https://localhost:8080/"
        },
        "id": "fRsa5x3SMwRN",
        "outputId": "25704b95-f939-4863-bbd7-c3658699f207"
      },
      "execution_count": 6,
      "outputs": [
        {
          "output_type": "stream",
          "name": "stdout",
          "text": [
            "Output shape: torch.Size([1, 10])\n",
            "Total number of parameters: 82030\n"
          ]
        }
      ]
    },
    {
      "cell_type": "code",
      "source": [
        "from torchsummary import summary\n",
        "\n",
        "# Set device to GPU if available, otherwise CPU\n",
        "device = torch.device(\"cuda\" if torch.cuda.is_available() else \"cpu\")\n",
        "print(f\"Using device: {device}\")\n",
        "\n",
        "# Define the SimpleNN model and move it to the selected device\n",
        "model = SimpleNN().to(device)\n",
        "\n",
        "# Create a dummy input tensor and move it to the same device as the model\n",
        "dummy_input = torch.randn(1, 3, 32, 32).to(device)  # Ensure input is on the same device\n",
        "\n",
        "# Pass the dummy input through the model\n",
        "output = model(dummy_input)\n",
        "\n",
        "# Check the output shape\n",
        "print(f\"Output shape: {output.shape}\")  # Should be (1, 10) since we have 10 classes\n",
        "\n",
        "# Count total number of parameters\n",
        "total_params = sum(p.numel() for p in model.parameters())\n",
        "print(f\"Total number of parameters: {total_params}\")\n",
        "\n",
        "# Print model summary (Ensure model is on the correct device)\n",
        "summary(model, (3, 32, 32), device=device.type)  # Specify the device"
      ],
      "metadata": {
        "colab": {
          "base_uri": "https://localhost:8080/"
        },
        "id": "cNgO5dK7gbv7",
        "outputId": "42c9836d-f9ab-4f1b-ddd9-e80bc4dd16c2"
      },
      "execution_count": 7,
      "outputs": [
        {
          "output_type": "stream",
          "name": "stdout",
          "text": [
            "Using device: cuda\n",
            "Output shape: torch.Size([1, 10])\n",
            "Total number of parameters: 82030\n",
            "----------------------------------------------------------------\n",
            "        Layer (type)               Output Shape         Param #\n",
            "================================================================\n",
            "            Conv2d-1            [-1, 8, 28, 28]             608\n",
            "            Conv2d-2           [-1, 16, 12, 12]           1,168\n",
            "            Linear-3                  [-1, 120]          69,240\n",
            "            Linear-4                   [-1, 84]          10,164\n",
            "            Linear-5                   [-1, 10]             850\n",
            "================================================================\n",
            "Total params: 82,030\n",
            "Trainable params: 82,030\n",
            "Non-trainable params: 0\n",
            "----------------------------------------------------------------\n",
            "Input size (MB): 0.01\n",
            "Forward/backward pass size (MB): 0.07\n",
            "Params size (MB): 0.31\n",
            "Estimated Total Size (MB): 0.39\n",
            "----------------------------------------------------------------\n"
          ]
        }
      ]
    },
    {
      "cell_type": "markdown",
      "metadata": {
        "id": "WX9zqVZk-zfT"
      },
      "source": [
        "## Step 1: Set up preprocessing functions\n"
      ]
    },
    {
      "cell_type": "code",
      "source": [
        "import torchvision.transforms as transforms\n",
        "\n",
        "# Data augmentation for training set\n",
        "transform_train = transforms.Compose([\n",
        "    transforms.RandomCrop(32, padding=4),  # Random cropping\n",
        "    transforms.RandomHorizontalFlip(),  # Random flipping\n",
        "    transforms.ToTensor(),  # Convert images to PyTorch tensors\n",
        "    transforms.Normalize(mean=(0.4914, 0.4822, 0.4465), std=(0.2023, 0.1994, 0.2010))  # Normalize\n",
        "])\n",
        "\n",
        "# No data augmentation for validation set\n",
        "transform_val = transforms.Compose([\n",
        "    transforms.ToTensor(),\n",
        "    transforms.Normalize(mean=(0.4914, 0.4822, 0.4465), std=(0.2023, 0.1994, 0.2010))\n",
        "])"
      ],
      "metadata": {
        "id": "ydUJrZOwOcFz"
      },
      "execution_count": 8,
      "outputs": []
    },
    {
      "cell_type": "markdown",
      "source": [
        "ToTensor(): Converts PIL images to PyTorch tensors so they can be used in deep learning models.\n",
        "\n",
        "Normalize(mean, std): Standardizes pixel values to a mean of (0.4914, 0.4822, 0.4465) and std of (0.2023, 0.1994, 0.2010), helping the model converge faster.\n"
      ],
      "metadata": {
        "id": "MCNib8fBOoHv"
      }
    },
    {
      "cell_type": "markdown",
      "metadata": {
        "id": "lHl6i1gP-zfT"
      },
      "source": [
        "## Step 2: Set up dataset and dataloader\n"
      ]
    },
    {
      "cell_type": "code",
      "source": [
        "# Do NOT change these\n",
        "from tools.dataset import CIFAR10\n",
        "from torch.utils.data import DataLoader\n",
        "\n",
        "# A few arguments, do NOT change these\n",
        "DATA_ROOT = \"./data\"\n",
        "TRAIN_BATCH_SIZE = 128\n",
        "VAL_BATCH_SIZE = 100\n",
        "\n",
        "# Construct dataset\n",
        "train_set = CIFAR10(\n",
        "    root=DATA_ROOT,\n",
        "    mode='train',\n",
        "    download=True,\n",
        "    transform=transform_train  # Apply training preprocessing\n",
        ")\n",
        "\n",
        "val_set = CIFAR10(\n",
        "    root=DATA_ROOT,\n",
        "    mode='val',\n",
        "    download=True,\n",
        "    transform=transform_val  # Apply validation preprocessing\n",
        ")\n",
        "\n",
        "# Construct dataloaders\n",
        "train_loader = DataLoader(\n",
        "    train_set,\n",
        "    batch_size=TRAIN_BATCH_SIZE,  # Use predefined batch size\n",
        "    shuffle=True,  # Shuffle training data for randomness\n",
        "    num_workers=4  # Speed up data loading\n",
        ")\n",
        "\n",
        "val_loader = DataLoader(\n",
        "    val_set,\n",
        "    batch_size=VAL_BATCH_SIZE,  # Use predefined batch size\n",
        "    shuffle=False,  # No need to shuffle validation data\n",
        "    num_workers=4\n",
        ")\n",
        "\n",
        "# Sanity Check: Print dataset sizes\n",
        "print(f\"Train dataset size: {len(train_set)} images\")\n",
        "print(f\"Validation dataset size: {len(val_set)} images\")\n",
        "\n",
        "# Check a single batch\n",
        "sample_batch, sample_labels = next(iter(train_loader))\n",
        "print(f\"Sample batch shape: {sample_batch.shape}, Labels shape: {sample_labels.shape}\")\n"
      ],
      "metadata": {
        "colab": {
          "base_uri": "https://localhost:8080/"
        },
        "id": "ElpvReM0QMta",
        "outputId": "0d1457e7-d16e-4d1c-c3c7-c0a744e2a95c"
      },
      "execution_count": 9,
      "outputs": [
        {
          "output_type": "stream",
          "name": "stdout",
          "text": [
            "Downloading https://www.dropbox.com/s/s8orza214q45b23/cifar10_trainval_F22.zip?dl=1 to ./data/cifar10_trainval_F22.zip\n"
          ]
        },
        {
          "output_type": "stream",
          "name": "stderr",
          "text": [
            "141746176it [00:04, 33045222.97it/s]                               \n"
          ]
        },
        {
          "output_type": "stream",
          "name": "stdout",
          "text": [
            "Extracting ./data/cifar10_trainval_F22.zip to ./data\n",
            "Files already downloaded and verified\n",
            "Using downloaded and verified file: ./data/cifar10_trainval_F22.zip\n",
            "Extracting ./data/cifar10_trainval_F22.zip to ./data\n",
            "Files already downloaded and verified\n",
            "Train dataset size: 45000 images\n",
            "Validation dataset size: 5000 images\n",
            "Sample batch shape: torch.Size([128, 3, 32, 32]), Labels shape: torch.Size([128])\n"
          ]
        }
      ]
    },
    {
      "cell_type": "code",
      "source": [
        "import matplotlib.pyplot as plt\n",
        "import numpy as np\n",
        "\n",
        "# Load one batch of training data\n",
        "data_iter = iter(train_loader)\n",
        "images, labels = next(data_iter)\n",
        "\n",
        "# Function to unnormalize and display images\n",
        "def imshow(img):\n",
        "    img = img.numpy().transpose((1, 2, 0))  # Convert to HWC format\n",
        "    mean = np.array([0.4914, 0.4822, 0.4465])\n",
        "    std = np.array([0.2023, 0.1994, 0.2010])\n",
        "    img = img * std + mean  # Unnormalize\n",
        "    img = np.clip(img, 0, 1)\n",
        "    plt.imshow(img)\n",
        "\n",
        "# Plot some augmented images\n",
        "fig, axes = plt.subplots(1, 5, figsize=(15,3))\n",
        "for i in range(5):\n",
        "    imshow(images[i])\n",
        "    axes[i].axis('off')\n",
        "plt.show()"
      ],
      "metadata": {
        "colab": {
          "base_uri": "https://localhost:8080/",
          "height": 268
        },
        "id": "9koobFWv6ekY",
        "outputId": "69061aed-951e-43fb-c8e6-096f26d18313"
      },
      "execution_count": 10,
      "outputs": [
        {
          "output_type": "display_data",
          "data": {
            "text/plain": [
              "<Figure size 1500x300 with 5 Axes>"
            ],
            "image/png": "[encoded data removed]"
          },
          "metadata": {}
        }
      ]
    },
    {
      "cell_type": "markdown",
      "metadata": {
        "id": "lOaGEcjw-zfT"
      },
      "source": [
        "## Step 3: Instantiate SimpleNN model and deploy it to GPU devices."
      ]
    },
    {
      "cell_type": "code",
      "execution_count": 11,
      "metadata": {
        "colab": {
          "base_uri": "https://localhost:8080/"
        },
        "id": "AdS3I9rs-zfU",
        "outputId": "7c75547f-faaa-4195-8e5c-4dfb4a394f28"
      },
      "outputs": [
        {
          "output_type": "stream",
          "name": "stdout",
          "text": [
            "Using device: cuda\n",
            "Parameter device: cuda:0\n"
          ]
        }
      ],
      "source": [
        "device = torch.device(\"cuda\" if torch.cuda.is_available() else \"cpu\")\n",
        "print(f\"Using device: {device}\")\n",
        "\n",
        "# Instantiate the SimpleNN model\n",
        "model = SimpleNN().to(device)  # Move model to GPU if available\n",
        "\n",
        "# Verify that model parameters are on the correct device\n",
        "for param in model.parameters():\n",
        "    print(f\"Parameter device: {param.device}\")\n",
        "    break  # Only need to check one parameter to confirm"
      ]
    },
    {
      "cell_type": "markdown",
      "metadata": {
        "id": "WknGJMp1-zfU"
      },
      "source": [
        "## Step 4: Set up the loss function and optimizer\n",
        "Loss function/objective function is used to provide \"feedback\" for the neural networks. Typically, we use multi-class cross-entropy as the loss function for classification models. As for the optimizer, we will use SGD with momentum."
      ]
    },
    {
      "cell_type": "code",
      "source": [
        "import torch.nn as nn\n",
        "import torch.optim as optim\n",
        "\n",
        "# Hyperparameters (Do NOT change)\n",
        "INITIAL_LR = 0.01  # Initial learning rate\n",
        "MOMENTUM = 0.9  # Momentum for optimizer\n",
        "REG = 1e-4  # L2 regularization (weight decay)\n",
        "\n",
        "# Create loss function (Cross-Entropy Loss)\n",
        "criterion = nn.CrossEntropyLoss()\n",
        "\n",
        "# Add optimizer (SGD with Momentum and L2 Regularization)\n",
        "optimizer = optim.SGD(\n",
        "    model.parameters(),  # Optimizing model parameters\n",
        "    lr=INITIAL_LR,  # Learning rate\n",
        "    momentum=MOMENTUM,  # Momentum factor\n",
        "    weight_decay=REG  # L2 regularization\n",
        ")\n",
        "\n",
        "# Sanity check: Print optimizer details\n",
        "print(optimizer)"
      ],
      "metadata": {
        "colab": {
          "base_uri": "https://localhost:8080/"
        },
        "id": "n7qWQMaSie7z",
        "outputId": "37a5dd43-0f9b-4abd-fe91-bd2caf510de8"
      },
      "execution_count": 12,
      "outputs": [
        {
          "output_type": "stream",
          "name": "stdout",
          "text": [
            "SGD (\n",
            "Parameter Group 0\n",
            "    dampening: 0\n",
            "    differentiable: False\n",
            "    foreach: None\n",
            "    fused: None\n",
            "    lr: 0.01\n",
            "    maximize: False\n",
            "    momentum: 0.9\n",
            "    nesterov: False\n",
            "    weight_decay: 0.0001\n",
            ")\n"
          ]
        }
      ]
    },
    {
      "cell_type": "markdown",
      "metadata": {
        "id": "13GUGlfU-zfU"
      },
      "source": [
        "## Step 5: Start the training process.\n",
        "\n"
      ]
    },
    {
      "cell_type": "code",
      "source": [
        "import torch\n",
        "import os\n",
        "\n",
        "# Hyperparameters\n",
        "EPOCHS = 30  # Total number of training epochs\n",
        "CHECKPOINT_FOLDER = \"./saved_model\"  # Folder for saving model checkpoints\n",
        "\n",
        "# Track best validation accuracy\n",
        "best_val_acc = 0\n",
        "current_learning_rate = INITIAL_LR\n",
        "\n",
        "# Ensure model is on the correct device\n",
        "model.to(device)\n",
        "\n",
        "model.eval()  # Set model to evaluation mode\n",
        "initial_loss = 0\n",
        "total_examples = 0\n",
        "correct_examples = 0\n",
        "\n",
        "with torch.no_grad():  # No gradient calculation\n",
        "    for batch_idx, (inputs, targets) in enumerate(train_loader):\n",
        "        # Copy inputs and targets to the device\n",
        "        inputs, targets = inputs.to(device), targets.to(device)\n",
        "\n",
        "        # Forward pass: compute the output\n",
        "        outputs = model(inputs)\n",
        "\n",
        "        # Compute loss\n",
        "        loss = criterion(outputs, targets)\n",
        "        initial_loss += loss.item()\n",
        "\n",
        "        # Compute accuracy before training\n",
        "        _, predicted = torch.max(outputs, 1)\n",
        "        correct_examples += (predicted == targets).sum().item()\n",
        "        total_examples += targets.size(0)\n",
        "\n",
        "        # Only calculate on a small subset (e.g., 1 batch)\n",
        "        if batch_idx == 0:\n",
        "            break\n",
        "\n",
        "# Compute initial average loss and accuracy\n",
        "initial_loss /= (batch_idx + 1)\n",
        "initial_acc = correct_examples / total_examples\n",
        "print(f\"Initial loss before training: {initial_loss:.4f}, Initial accuracy: {initial_acc:.4f}\")\n",
        "\n",
        "# Start training\n",
        "print(\"==> Training starts!\")\n",
        "print(\"=\"*50)\n",
        "\n",
        "for i in range(EPOCHS):\n",
        "\n",
        "    # Switch to train mode\n",
        "    model.train()\n",
        "\n",
        "    print(\"Epoch %d:\" % i)\n",
        "\n",
        "    # Track accuracy and loss\n",
        "    total_examples = 0\n",
        "    correct_examples = 0\n",
        "    train_loss = 0\n",
        "\n",
        "    # Train the model for 1 epoch\n",
        "    for batch_idx, (inputs, targets) in enumerate(train_loader):\n",
        "\n",
        "        # Copy inputs and targets to the device (GPU or CPU)\n",
        "        inputs, targets = inputs.to(device), targets.to(device)\n",
        "\n",
        "        # Forward pass: compute the output\n",
        "        outputs = model(inputs)\n",
        "\n",
        "        # Compute loss (cross-entropy loss expects raw logits, not softmax)\n",
        "        loss = criterion(outputs, targets)\n",
        "\n",
        "        # Zero the gradients (otherwise they accumulate)\n",
        "        optimizer.zero_grad()\n",
        "\n",
        "        # Backpropagation\n",
        "        loss.backward()\n",
        "\n",
        "        # Apply gradient and update weights\n",
        "        optimizer.step()\n",
        "\n",
        "        # Track total loss\n",
        "        train_loss += loss.item()\n",
        "\n",
        "        # Count correct predictions\n",
        "        _, predicted = torch.max(outputs, 1)  # Get class with highest probability\n",
        "        correct_examples += (predicted == targets).sum().item()\n",
        "        total_examples += targets.size(0)\n",
        "\n",
        "    # Compute average loss and accuracy\n",
        "    avg_loss = train_loss / len(train_loader)\n",
        "    avg_acc = correct_examples / total_examples\n",
        "    print(f\"Training loss: {avg_loss:.4f}, Training accuracy: {avg_acc:.4f}\")\n",
        "\n",
        "    # Validate on the validation dataset\n",
        "\n",
        "    # Switch to evaluation mode\n",
        "    model.eval()\n",
        "\n",
        "    # Track accuracy and loss for validation\n",
        "    total_examples = 0\n",
        "    correct_examples = 0\n",
        "    val_loss = 0\n",
        "\n",
        "    # Disable gradient computation during validation (saves memory)\n",
        "    with torch.no_grad():\n",
        "        for batch_idx, (inputs, targets) in enumerate(val_loader):\n",
        "\n",
        "            # Copy inputs and targets to the device\n",
        "            inputs, targets = inputs.to(device), targets.to(device)\n",
        "\n",
        "            # Forward pass: compute the output\n",
        "            outputs = model(inputs)\n",
        "\n",
        "            # Compute loss\n",
        "            loss = criterion(outputs, targets)\n",
        "            val_loss += loss.item()\n",
        "\n",
        "            # Count correct predictions\n",
        "            _, predicted = torch.max(outputs, 1)\n",
        "            correct_examples += (predicted == targets).sum().item()\n",
        "            total_examples += targets.size(0)\n",
        "\n",
        "    # Compute average loss and accuracy\n",
        "    avg_loss = val_loss / len(val_loader)\n",
        "    avg_acc = correct_examples / total_examples\n",
        "    print(f\"Validation loss: {avg_loss:.4f}, Validation accuracy: {avg_acc:.4f}\")\n",
        "\n",
        "    # Save the model checkpoint if validation accuracy improves\n",
        "    if avg_acc > best_val_acc:\n",
        "        best_val_acc = avg_acc\n",
        "        if not os.path.exists(CHECKPOINT_FOLDER):\n",
        "            os.makedirs(CHECKPOINT_FOLDER)\n",
        "        print(\"Saving best model...\")\n",
        "        state = {'state_dict': model.state_dict(), 'epoch': i, 'lr': current_learning_rate}\n",
        "        torch.save(state, os.path.join(CHECKPOINT_FOLDER, 'simplenn_aug.pth'))\n",
        "\n",
        "    print('')\n",
        "\n",
        "print(\"=\"*50)\n",
        "print(f\"==> Optimization finished! Best validation accuracy: {best_val_acc:.4f}\")"
      ],
      "metadata": {
        "colab": {
          "base_uri": "https://localhost:8080/"
        },
        "id": "ItUnWRx2kfzR",
        "outputId": "1c0e812e-4bfd-4a92-d21b-5eef3a65147d"
      },
      "execution_count": 13,
      "outputs": [
        {
          "output_type": "stream",
          "name": "stdout",
          "text": [
            "Initial loss before training: 2.3060, Initial accuracy: 0.0625\n",
            "==> Training starts!\n",
            "==================================================\n",
            "Epoch 0:\n",
            "Training loss: 2.0085, Training accuracy: 0.2501\n",
            "Validation loss: 1.6731, Validation accuracy: 0.3782\n",
            "Saving best model...\n",
            "\n",
            "Epoch 1:\n",
            "Training loss: 1.6064, Training accuracy: 0.4108\n",
            "Validation loss: 1.4742, Validation accuracy: 0.4694\n",
            "Saving best model...\n",
            "\n",
            "Epoch 2:\n",
            "Training loss: 1.4610, Training accuracy: 0.4710\n",
            "Validation loss: 1.3351, Validation accuracy: 0.5214\n",
            "Saving best model...\n",
            "\n",
            "Epoch 3:\n",
            "Training loss: 1.3638, Training accuracy: 0.5092\n",
            "Validation loss: 1.2449, Validation accuracy: 0.5624\n",
            "Saving best model...\n",
            "\n",
            "Epoch 4:\n",
            "Training loss: 1.3092, Training accuracy: 0.5301\n",
            "Validation loss: 1.1837, Validation accuracy: 0.5840\n",
            "Saving best model...\n",
            "\n",
            "Epoch 5:\n",
            "Training loss: 1.2530, Training accuracy: 0.5502\n",
            "Validation loss: 1.1505, Validation accuracy: 0.6024\n",
            "Saving best model...\n",
            "\n",
            "Epoch 6:\n",
            "Training loss: 1.2097, Training accuracy: 0.5691\n",
            "Validation loss: 1.0959, Validation accuracy: 0.6170\n",
            "Saving best model...\n",
            "\n",
            "Epoch 7:\n",
            "Training loss: 1.1728, Training accuracy: 0.5834\n",
            "Validation loss: 1.0805, Validation accuracy: 0.6168\n",
            "\n",
            "Epoch 8:\n",
            "Training loss: 1.1461, Training accuracy: 0.5953\n",
            "Validation loss: 1.0969, Validation accuracy: 0.6182\n",
            "Saving best model...\n",
            "\n",
            "Epoch 9:\n",
            "Training loss: 1.1153, Training accuracy: 0.6074\n",
            "Validation loss: 1.0570, Validation accuracy: 0.6274\n",
            "Saving best model...\n",
            "\n",
            "Epoch 10:\n",
            "Training loss: 1.0855, Training accuracy: 0.6183\n",
            "Validation loss: 1.0205, Validation accuracy: 0.6458\n",
            "Saving best model...\n",
            "\n",
            "Epoch 11:\n",
            "Training loss: 1.0702, Training accuracy: 0.6234\n",
            "Validation loss: 0.9808, Validation accuracy: 0.6570\n",
            "Saving best model...\n",
            "\n",
            "Epoch 12:\n",
            "Training loss: 1.0516, Training accuracy: 0.6285\n",
            "Validation loss: 0.9760, Validation accuracy: 0.6504\n",
            "\n",
            "Epoch 13:\n",
            "Training loss: 1.0367, Training accuracy: 0.6359\n",
            "Validation loss: 0.9648, Validation accuracy: 0.6644\n",
            "Saving best model...\n",
            "\n",
            "Epoch 14:\n",
            "Training loss: 1.0206, Training accuracy: 0.6415\n",
            "Validation loss: 0.9770, Validation accuracy: 0.6622\n",
            "\n",
            "Epoch 15:\n",
            "Training loss: 0.9995, Training accuracy: 0.6468\n",
            "Validation loss: 0.9529, Validation accuracy: 0.6660\n",
            "Saving best model...\n",
            "\n",
            "Epoch 16:\n",
            "Training loss: 0.9995, Training accuracy: 0.6481\n",
            "Validation loss: 0.9530, Validation accuracy: 0.6620\n",
            "\n",
            "Epoch 17:\n",
            "Training loss: 0.9868, Training accuracy: 0.6518\n",
            "Validation loss: 0.9252, Validation accuracy: 0.6808\n",
            "Saving best model...\n",
            "\n",
            "Epoch 18:\n",
            "Training loss: 0.9813, Training accuracy: 0.6537\n",
            "Validation loss: 0.9270, Validation accuracy: 0.6740\n",
            "\n",
            "Epoch 19:\n",
            "Training loss: 0.9622, Training accuracy: 0.6638\n",
            "Validation loss: 0.9626, Validation accuracy: 0.6634\n",
            "\n",
            "Epoch 20:\n",
            "Training loss: 0.9532, Training accuracy: 0.6649\n",
            "Validation loss: 1.0120, Validation accuracy: 0.6514\n",
            "\n",
            "Epoch 21:\n",
            "Training loss: 0.9478, Training accuracy: 0.6675\n",
            "Validation loss: 0.8873, Validation accuracy: 0.6946\n",
            "Saving best model...\n",
            "\n",
            "Epoch 22:\n",
            "Training loss: 0.9371, Training accuracy: 0.6683\n",
            "Validation loss: 0.9149, Validation accuracy: 0.6738\n",
            "\n",
            "Epoch 23:\n",
            "Training loss: 0.9430, Training accuracy: 0.6706\n",
            "Validation loss: 0.9030, Validation accuracy: 0.6870\n",
            "\n",
            "Epoch 24:\n",
            "Training loss: 0.9220, Training accuracy: 0.6760\n",
            "Validation loss: 0.8773, Validation accuracy: 0.6940\n",
            "\n",
            "Epoch 25:\n",
            "Training loss: 0.9207, Training accuracy: 0.6773\n",
            "Validation loss: 0.8662, Validation accuracy: 0.6898\n",
            "\n",
            "Epoch 26:\n",
            "Training loss: 0.9087, Training accuracy: 0.6815\n",
            "Validation loss: 0.8896, Validation accuracy: 0.6936\n",
            "\n",
            "Epoch 27:\n",
            "Training loss: 0.9108, Training accuracy: 0.6812\n",
            "Validation loss: 0.8594, Validation accuracy: 0.7050\n",
            "Saving best model...\n",
            "\n",
            "Epoch 28:\n",
            "Training loss: 0.9019, Training accuracy: 0.6818\n",
            "Validation loss: 0.8510, Validation accuracy: 0.7048\n",
            "\n",
            "Epoch 29:\n",
            "Training loss: 0.9052, Training accuracy: 0.6811\n",
            "Validation loss: 0.8521, Validation accuracy: 0.7034\n",
            "\n",
            "==================================================\n",
            "==> Optimization finished! Best validation accuracy: 0.7050\n"
          ]
        }
      ]
    },
    {
      "cell_type": "markdown",
      "metadata": {
        "id": "03mRvLSm-zfU"
      },
      "source": [
        "# Training with learning rate decay\n",
        "\n"
      ]
    },
    {
      "cell_type": "code",
      "execution_count": 14,
      "metadata": {
        "colab": {
          "base_uri": "https://localhost:8080/"
        },
        "id": "JsLgZAfi-zfU",
        "outputId": "e4938917-f844-47e1-b7cc-5d5cbb1dc4e5"
      },
      "outputs": [
        {
          "output_type": "stream",
          "name": "stdout",
          "text": [
            "Initial loss before training: 2.3005, Initial accuracy: 0.1484\n",
            "==> Training starts!\n",
            "==================================================\n",
            "Epoch 0:\n",
            "Training loss: 1.9376, Training accuracy: 0.2751\n",
            "Validation loss: 1.5997, Validation accuracy: 0.4060\n",
            "Saving best model...\n",
            "\n",
            "Epoch 1:\n",
            "Training loss: 1.5789, Training accuracy: 0.4239\n",
            "Validation loss: 1.4398, Validation accuracy: 0.4814\n",
            "Saving best model...\n",
            "\n",
            "Epoch 2:\n",
            "Training loss: 1.4570, Training accuracy: 0.4697\n",
            "Validation loss: 1.3324, Validation accuracy: 0.5266\n",
            "Saving best model...\n",
            "\n",
            "Epoch 3:\n",
            "Training loss: 1.3775, Training accuracy: 0.5073\n",
            "Validation loss: 1.2493, Validation accuracy: 0.5588\n",
            "Saving best model...\n",
            "\n",
            "Epoch 4:\n",
            "Training loss: 1.3107, Training accuracy: 0.5306\n",
            "Validation loss: 1.1943, Validation accuracy: 0.5784\n",
            "Saving best model...\n",
            "\n",
            "Epoch 5:\n",
            "Training loss: 1.2498, Training accuracy: 0.5528\n",
            "Validation loss: 1.1102, Validation accuracy: 0.6064\n",
            "Saving best model...\n",
            "\n",
            "Epoch 6:\n",
            "Training loss: 1.2068, Training accuracy: 0.5691\n",
            "Validation loss: 1.1122, Validation accuracy: 0.6106\n",
            "Saving best model...\n",
            "\n",
            "Epoch 7:\n",
            "Training loss: 1.1511, Training accuracy: 0.5936\n",
            "Validation loss: 1.1009, Validation accuracy: 0.6102\n",
            "\n",
            "Epoch 8:\n",
            "Training loss: 1.1253, Training accuracy: 0.6033\n",
            "Validation loss: 1.0032, Validation accuracy: 0.6458\n",
            "Saving best model...\n",
            "\n",
            "Epoch 9:\n",
            "Training loss: 1.0881, Training accuracy: 0.6164\n",
            "Validation loss: 1.0354, Validation accuracy: 0.6352\n",
            "\n",
            "Current learning rate has decayed to 0.001000\n",
            "Epoch 10:\n",
            "Training loss: 0.9911, Training accuracy: 0.6526\n",
            "Validation loss: 0.9216, Validation accuracy: 0.6766\n",
            "Saving best model...\n",
            "\n",
            "Epoch 11:\n",
            "Training loss: 0.9763, Training accuracy: 0.6555\n",
            "Validation loss: 0.9106, Validation accuracy: 0.6812\n",
            "Saving best model...\n",
            "\n",
            "Epoch 12:\n",
            "Training loss: 0.9649, Training accuracy: 0.6590\n",
            "Validation loss: 0.9181, Validation accuracy: 0.6774\n",
            "\n",
            "Epoch 13:\n",
            "Training loss: 0.9595, Training accuracy: 0.6639\n",
            "Validation loss: 0.8949, Validation accuracy: 0.6836\n",
            "Saving best model...\n",
            "\n",
            "Epoch 14:\n",
            "Training loss: 0.9502, Training accuracy: 0.6666\n",
            "Validation loss: 0.8993, Validation accuracy: 0.6854\n",
            "Saving best model...\n",
            "\n",
            "Epoch 15:\n",
            "Training loss: 0.9469, Training accuracy: 0.6687\n",
            "Validation loss: 0.8905, Validation accuracy: 0.6860\n",
            "Saving best model...\n",
            "\n",
            "Epoch 16:\n",
            "Training loss: 0.9434, Training accuracy: 0.6685\n",
            "Validation loss: 0.8833, Validation accuracy: 0.6888\n",
            "Saving best model...\n",
            "\n",
            "Epoch 17:\n",
            "Training loss: 0.9363, Training accuracy: 0.6701\n",
            "Validation loss: 0.8858, Validation accuracy: 0.6862\n",
            "\n",
            "Epoch 18:\n",
            "Training loss: 0.9311, Training accuracy: 0.6750\n",
            "Validation loss: 0.8795, Validation accuracy: 0.6936\n",
            "Saving best model...\n",
            "\n",
            "Epoch 19:\n",
            "Training loss: 0.9294, Training accuracy: 0.6720\n",
            "Validation loss: 0.8730, Validation accuracy: 0.6934\n",
            "\n",
            "Current learning rate has decayed to 0.000100\n",
            "Epoch 20:\n",
            "Training loss: 0.9170, Training accuracy: 0.6777\n",
            "Validation loss: 0.8694, Validation accuracy: 0.6956\n",
            "Saving best model...\n",
            "\n",
            "Epoch 21:\n",
            "Training loss: 0.9136, Training accuracy: 0.6790\n",
            "Validation loss: 0.8666, Validation accuracy: 0.6960\n",
            "Saving best model...\n",
            "\n",
            "Epoch 22:\n",
            "Training loss: 0.9157, Training accuracy: 0.6779\n",
            "Validation loss: 0.8668, Validation accuracy: 0.6958\n",
            "\n",
            "Epoch 23:\n",
            "Training loss: 0.9122, Training accuracy: 0.6793\n",
            "Validation loss: 0.8642, Validation accuracy: 0.6978\n",
            "Saving best model...\n",
            "\n",
            "Epoch 24:\n",
            "Training loss: 0.9128, Training accuracy: 0.6789\n",
            "Validation loss: 0.8657, Validation accuracy: 0.6978\n",
            "\n",
            "Epoch 25:\n",
            "Training loss: 0.9071, Training accuracy: 0.6806\n",
            "Validation loss: 0.8642, Validation accuracy: 0.6980\n",
            "Saving best model...\n",
            "\n",
            "Epoch 26:\n",
            "Training loss: 0.9145, Training accuracy: 0.6796\n",
            "Validation loss: 0.8639, Validation accuracy: 0.6988\n",
            "Saving best model...\n",
            "\n",
            "Epoch 27:\n",
            "Training loss: 0.9169, Training accuracy: 0.6785\n",
            "Validation loss: 0.8635, Validation accuracy: 0.6964\n",
            "\n",
            "Epoch 28:\n",
            "Training loss: 0.9086, Training accuracy: 0.6830\n",
            "Validation loss: 0.8639, Validation accuracy: 0.6980\n",
            "\n",
            "Epoch 29:\n",
            "Training loss: 0.9085, Training accuracy: 0.6794\n",
            "Validation loss: 0.8639, Validation accuracy: 0.6968\n",
            "\n",
            "==================================================\n",
            "==> Optimization finished! Best validation accuracy: 0.6988\n"
          ]
        }
      ],
      "source": [
        "# Hyperparameters\n",
        "EPOCHS = 30  # Total number of training epochs\n",
        "DECAY_EPOCHS = 10  # Decay learning rate every 10 epochs\n",
        "DECAY = 0.1  # Reduce learning rate by a factor of 0.1\n",
        "\n",
        "CHECKPOINT_FOLDER = \"./saved_model\"  # Folder for saving model checkpoints\n",
        "\n",
        "# Track best validation accuracy\n",
        "best_val_acc = 0\n",
        "current_learning_rate = INITIAL_LR\n",
        "\n",
        "# Reinitialize a fresh model (important to reset weights!)\n",
        "model = SimpleNN().to(device)  # Create a new model\n",
        "\n",
        "# Reset optimizer before the second training run\n",
        "optimizer = optim.SGD(model.parameters(), lr=INITIAL_LR, momentum=MOMENTUM, weight_decay=REG)\n",
        "\n",
        "model.eval()  # Set model to evaluation mode\n",
        "initial_loss = 0\n",
        "total_examples = 0\n",
        "correct_examples = 0\n",
        "\n",
        "with torch.no_grad():  # No gradient calculation\n",
        "    for batch_idx, (inputs, targets) in enumerate(train_loader):\n",
        "        # Copy inputs and targets to the device\n",
        "        inputs, targets = inputs.to(device), targets.to(device)\n",
        "\n",
        "        # Forward pass: compute the output\n",
        "        outputs = model(inputs)\n",
        "\n",
        "        # Compute loss\n",
        "        loss = criterion(outputs, targets)\n",
        "        initial_loss += loss.item()\n",
        "\n",
        "        # Compute accuracy before training\n",
        "        _, predicted = torch.max(outputs, 1)\n",
        "        correct_examples += (predicted == targets).sum().item()\n",
        "        total_examples += targets.size(0)\n",
        "\n",
        "        # Only calculate on a small subset (e.g., 1 batch)\n",
        "        if batch_idx == 0:\n",
        "            break\n",
        "\n",
        "# Compute initial average loss and accuracy\n",
        "initial_loss /= (batch_idx + 1)\n",
        "initial_acc = correct_examples / total_examples\n",
        "print(f\"Initial loss before training: {initial_loss:.4f}, Initial accuracy: {initial_acc:.4f}\")\n",
        "\n",
        "# Start training\n",
        "print(\"==> Training starts!\")\n",
        "print(\"=\"*50)\n",
        "\n",
        "for i in range(EPOCHS):\n",
        "    # Apply learning rate decay\n",
        "    if i % DECAY_EPOCHS == 0 and i != 0:\n",
        "        current_learning_rate *= DECAY  # Reduce learning rate\n",
        "        for param_group in optimizer.param_groups:\n",
        "            param_group['lr'] = current_learning_rate\n",
        "        print(f\"Current learning rate has decayed to {current_learning_rate:.6f}\")\n",
        "\n",
        "    # Switch to train mode\n",
        "    model.train()\n",
        "\n",
        "    print(\"Epoch %d:\" % i)\n",
        "\n",
        "    # Track accuracy and loss\n",
        "    total_examples = 0\n",
        "    correct_examples = 0\n",
        "    train_loss = 0\n",
        "\n",
        "    # Train the model for 1 epoch\n",
        "    for batch_idx, (inputs, targets) in enumerate(train_loader):\n",
        "\n",
        "        # Copy inputs and targets to the device (GPU or CPU)\n",
        "        inputs, targets = inputs.to(device), targets.to(device)\n",
        "\n",
        "        # Forward pass: compute the output\n",
        "        outputs = model(inputs)\n",
        "\n",
        "        # Compute loss (cross-entropy loss expects raw logits, not softmax)\n",
        "        loss = criterion(outputs, targets)\n",
        "\n",
        "        # Zero the gradients (otherwise they accumulate)\n",
        "        optimizer.zero_grad()\n",
        "\n",
        "        # Backpropagation\n",
        "        loss.backward()\n",
        "\n",
        "        # Apply gradient and update weights\n",
        "        optimizer.step()\n",
        "\n",
        "        # Track total loss\n",
        "        train_loss += loss.item()\n",
        "\n",
        "        # Count correct predictions\n",
        "        _, predicted = torch.max(outputs, 1)  # Get class with highest probability\n",
        "        correct_examples += (predicted == targets).sum().item()\n",
        "        total_examples += targets.size(0)\n",
        "\n",
        "    # Compute average loss and accuracy\n",
        "    avg_loss = train_loss / len(train_loader)\n",
        "    avg_acc = correct_examples / total_examples\n",
        "    print(f\"Training loss: {avg_loss:.4f}, Training accuracy: {avg_acc:.4f}\")\n",
        "\n",
        "    # Validate on the validation dataset\n",
        "\n",
        "    # Switch to evaluation mode\n",
        "    model.eval()\n",
        "\n",
        "    # Track accuracy and loss for validation\n",
        "    total_examples = 0\n",
        "    correct_examples = 0\n",
        "    val_loss = 0\n",
        "\n",
        "    # Disable gradient computation during validation (saves memory)\n",
        "    with torch.no_grad():\n",
        "        for batch_idx, (inputs, targets) in enumerate(val_loader):\n",
        "\n",
        "            # Copy inputs and targets to the device\n",
        "            inputs, targets = inputs.to(device), targets.to(device)\n",
        "\n",
        "            # Forward pass: compute the output\n",
        "            outputs = model(inputs)\n",
        "\n",
        "            # Compute loss\n",
        "            loss = criterion(outputs, targets)\n",
        "            val_loss += loss.item()\n",
        "\n",
        "            # Count correct predictions\n",
        "            _, predicted = torch.max(outputs, 1)\n",
        "            correct_examples += (predicted == targets).sum().item()\n",
        "            total_examples += targets.size(0)\n",
        "\n",
        "    # Compute average loss and accuracy\n",
        "    avg_loss = val_loss / len(val_loader)\n",
        "    avg_acc = correct_examples / total_examples\n",
        "    print(f\"Validation loss: {avg_loss:.4f}, Validation accuracy: {avg_acc:.4f}\")\n",
        "\n",
        "    # Save the model checkpoint if validation accuracy improves\n",
        "    if avg_acc > best_val_acc:\n",
        "        best_val_acc = avg_acc\n",
        "        if not os.path.exists(CHECKPOINT_FOLDER):\n",
        "            os.makedirs(CHECKPOINT_FOLDER)\n",
        "        print(\"Saving best model...\")\n",
        "        state = {'state_dict': model.state_dict(), 'epoch': i, 'lr': current_learning_rate}\n",
        "        torch.save(state, os.path.join(CHECKPOINT_FOLDER, 'simplenn_aug_with_decay.pth'))\n",
        "\n",
        "    print('')\n",
        "\n",
        "print(\"=\"*50)\n",
        "print(f\"==> Optimization finished! Best validation accuracy: {best_val_acc:.4f}\")"
      ]
    },
    {
      "cell_type": "markdown",
      "source": [
        "Validation accuracy increased with data augmentation to around 70%"
      ],
      "metadata": {
        "id": "aT0UTD1V8qCR"
      }
    }
  ],
  "metadata": {
    "kernelspec": {
      "display_name": "Python 3",
      "name": "python3"
    },
    "language_info": {
      "codemirror_mode": {
        "name": "ipython",
        "version": 3
      },
      "file_extension": ".py",
      "mimetype": "text/x-python",
      "name": "python",
      "nbconvert_exporter": "python",
      "pygments_lexer": "ipython3",
      "version": "3.8.12"
    },
    "colab": {
      "provenance": [],
      "gpuType": "L4",
      "include_colab_link": true
    },
    "accelerator": "GPU"
  },
  "nbformat": 4,
  "nbformat_minor": 0
}