{
  "cells": [
    {
      "cell_type": "markdown",
      "metadata": {
        "id": "view-in-github",
        "colab_type": "text"
      },
      "source": [
        "<a href=\"https://colab.research.google.com/github/tinayiluo0322/Computer-Engineering-Machine-Learning-and-Deep-Neural-Nets-Projects/blob/main/simplenn_cifar10.ipynb\" target=\"_parent\"><img src=\"https://colab.research.google.com/assets/colab-badge.svg\" alt=\"Open In Colab\"/></a>"
      ]
    },
    {
      "cell_type": "markdown",
      "metadata": {
        "id": "FHU0uE10-zfR"
      },
      "source": [
        "# Training SimpleNN on CIFAR-10\n",
        "\n",
        "#### Luopeiwen Yi\n",
        "\n",
        "In this project, we will use the SimpleNN model to perform image classification on CIFAR-10.\n",
        "\n",
        "CIFAR-10 orginally contains 60K images from 10 categories. We split it into 45K/5K/10K images to serve as train/valiation/test set. We only release the ground-truth labels of training/validation dataset to you."
      ]
    },
    {
      "cell_type": "code",
      "source": [
        "from google.colab import drive\n",
        "drive.mount('/content/drive')"
      ],
      "metadata": {
        "colab": {
          "base_uri": "https://localhost:8080/"
        },
        "id": "AT2V-hEjUgCL",
        "outputId": "ea096be9-4b0d-40c1-e231-af5194e196d9"
      },
      "execution_count": 1,
      "outputs": [
        {
          "output_type": "stream",
          "name": "stdout",
          "text": [
            "Mounted at /content/drive\n"
          ]
        }
      ]
    },
    {
      "cell_type": "code",
      "source": [
        "import sys\n",
        "import os"
      ],
      "metadata": {
        "id": "6c_9k29BVqpd"
      },
      "execution_count": 2,
      "outputs": []
    },
    {
      "cell_type": "code",
      "source": [
        "# Change this to the absolute path where dataset.py and utils.py are stored\n",
        "CODE_PATH = \"/content/drive/MyDrive/CNN_hw\"\n",
        "\n",
        "# Add this path to sys.path so Python can find it\n",
        "sys.path.append(CODE_PATH)\n",
        "\n",
        "# Check if Colab can see the files\n",
        "print(\"Files in directory:\", os.listdir(CODE_PATH))"
      ],
      "metadata": {
        "colab": {
          "base_uri": "https://localhost:8080/"
        },
        "id": "Y93THHD5Ul8F",
        "outputId": "0cd77687-21bf-4913-f1ea-7469a21e8ab8"
      },
      "execution_count": 3,
      "outputs": [
        {
          "output_type": "stream",
          "name": "stdout",
          "text": [
            "Files in directory: ['sample_predictions.csv', 'save_test_predictions.ipynb', '__pycache__', 'tools', 'simplenn-cifar10.ipynb']\n"
          ]
        }
      ]
    },
    {
      "cell_type": "markdown",
      "metadata": {
        "id": "o5hTIizt-zfS"
      },
      "source": [
        "## Step 0: Set up the SimpleNN model\n"
      ]
    },
    {
      "cell_type": "code",
      "execution_count": 4,
      "metadata": {
        "id": "TwB63cqB-zfS"
      },
      "outputs": [],
      "source": [
        "# import necessary dependencies\n",
        "import argparse\n",
        "import os, sys\n",
        "import time\n",
        "import datetime\n",
        "from tqdm import tqdm_notebook as tqdm\n",
        "\n",
        "import torch\n",
        "import torch.nn as nn\n",
        "import torch.nn.functional as F"
      ]
    },
    {
      "cell_type": "code",
      "execution_count": 5,
      "metadata": {
        "id": "LjnAHdxy-zfT"
      },
      "outputs": [],
      "source": [
        "# define the SimpleNN mode;\n",
        "class SimpleNN(nn.Module):\n",
        "    def __init__(self):\n",
        "        super(SimpleNN, self).__init__()\n",
        "        self.conv1 = nn.Conv2d(3, 8, 5)\n",
        "        self.conv2 = nn.Conv2d(8, 16, 3)\n",
        "        self.fc1   = nn.Linear(16*6*6, 120)\n",
        "        self.fc2   = nn.Linear(120, 84)\n",
        "        self.fc3   = nn.Linear(84, 10)\n",
        "\n",
        "    def forward(self, x):\n",
        "        out = F.relu(self.conv1(x))\n",
        "        out = F.max_pool2d(out, 2)\n",
        "        out = F.relu(self.conv2(out))\n",
        "        out = F.max_pool2d(out, 2)\n",
        "        out = out.view(out.size(0), -1)\n",
        "        out = F.relu(self.fc1(out))\n",
        "        out = F.relu(self.fc2(out))\n",
        "        out = self.fc3(out)\n",
        "        return out"
      ]
    },
    {
      "cell_type": "markdown",
      "metadata": {
        "id": "G2dWCG-f-zfT"
      },
      "source": [
        "### Sanity Check"
      ]
    },
    {
      "cell_type": "code",
      "source": [
        "# Define the SimpleNN model\n",
        "model = SimpleNN()\n",
        "\n",
        "# Create a dummy input tensor with the same shape as CIFAR-10 images (batch_size=1, channels=3, height=32, width=32)\n",
        "dummy_input = torch.randn(1, 3, 32, 32)  # Shape: (1, 3, 32, 32)\n",
        "\n",
        "# Pass the dummy input through the model\n",
        "output = model(dummy_input)\n",
        "\n",
        "# Check the output shape\n",
        "print(f\"Output shape: {output.shape}\")  # Should be (1, 10) since we have 10 classes\n",
        "\n",
        "# Count total number of parameters\n",
        "total_params = sum(p.numel() for p in model.parameters())\n",
        "print(f\"Total number of parameters: {total_params}\")"
      ],
      "metadata": {
        "colab": {
          "base_uri": "https://localhost:8080/"
        },
        "id": "fRsa5x3SMwRN",
        "outputId": "9e0c12a3-ac02-4876-f75a-0a56d4bdcf41"
      },
      "execution_count": 6,
      "outputs": [
        {
          "output_type": "stream",
          "name": "stdout",
          "text": [
            "Output shape: torch.Size([1, 10])\n",
            "Total number of parameters: 82030\n"
          ]
        }
      ]
    },
    {
      "cell_type": "code",
      "source": [
        "from torchsummary import summary\n",
        "\n",
        "# Set device to GPU if available, otherwise CPU\n",
        "device = torch.device(\"cuda\" if torch.cuda.is_available() else \"cpu\")\n",
        "print(f\"Using device: {device}\")\n",
        "\n",
        "# Define the SimpleNN model and move it to the selected device\n",
        "model = SimpleNN().to(device)\n",
        "\n",
        "# Create a dummy input tensor and move it to the same device as the model\n",
        "dummy_input = torch.randn(1, 3, 32, 32).to(device)  # Ensure input is on the same device\n",
        "\n",
        "# Pass the dummy input through the model\n",
        "output = model(dummy_input)\n",
        "\n",
        "# Check the output shape\n",
        "print(f\"Output shape: {output.shape}\")  # Should be (1, 10) since we have 10 classes\n",
        "\n",
        "# Count total number of parameters\n",
        "total_params = sum(p.numel() for p in model.parameters())\n",
        "print(f\"Total number of parameters: {total_params}\")\n",
        "\n",
        "# Print model summary (Ensure model is on the correct device)\n",
        "summary(model, (3, 32, 32), device=device.type)  # Specify the device"
      ],
      "metadata": {
        "colab": {
          "base_uri": "https://localhost:8080/"
        },
        "id": "cNgO5dK7gbv7",
        "outputId": "1d3898c5-df9a-4c53-f921-a2034fddbbb9"
      },
      "execution_count": 7,
      "outputs": [
        {
          "output_type": "stream",
          "name": "stdout",
          "text": [
            "Using device: cuda\n",
            "Output shape: torch.Size([1, 10])\n",
            "Total number of parameters: 82030\n",
            "----------------------------------------------------------------\n",
            "        Layer (type)               Output Shape         Param #\n",
            "================================================================\n",
            "            Conv2d-1            [-1, 8, 28, 28]             608\n",
            "            Conv2d-2           [-1, 16, 12, 12]           1,168\n",
            "            Linear-3                  [-1, 120]          69,240\n",
            "            Linear-4                   [-1, 84]          10,164\n",
            "            Linear-5                   [-1, 10]             850\n",
            "================================================================\n",
            "Total params: 82,030\n",
            "Trainable params: 82,030\n",
            "Non-trainable params: 0\n",
            "----------------------------------------------------------------\n",
            "Input size (MB): 0.01\n",
            "Forward/backward pass size (MB): 0.07\n",
            "Params size (MB): 0.31\n",
            "Estimated Total Size (MB): 0.39\n",
            "----------------------------------------------------------------\n"
          ]
        }
      ]
    },
    {
      "cell_type": "markdown",
      "metadata": {
        "id": "WX9zqVZk-zfT"
      },
      "source": [
        "## Step 1: Set up preprocessing functions\n"
      ]
    },
    {
      "cell_type": "code",
      "source": [
        "# Import necessary libraries\n",
        "import torchvision.transforms as transforms\n",
        "\n",
        "# Define transformations for training data\n",
        "transform_train = transforms.Compose([\n",
        "    transforms.ToTensor(),  # Convert PIL image to PyTorch tensor\n",
        "    transforms.Normalize(mean=(0.4914, 0.4822, 0.4465), std=(0.2023, 0.1994, 0.2010))  # Normalize\n",
        "])\n",
        "\n",
        "# Define transformations for validation data\n",
        "transform_val = transforms.Compose([\n",
        "    transforms.ToTensor(),\n",
        "    transforms.Normalize(mean=(0.4914, 0.4822, 0.4465), std=(0.2023, 0.1994, 0.2010))\n",
        "])"
      ],
      "metadata": {
        "id": "ydUJrZOwOcFz"
      },
      "execution_count": 8,
      "outputs": []
    },
    {
      "cell_type": "markdown",
      "source": [
        "ToTensor(): Converts PIL images to PyTorch tensors so they can be used in deep learning models.\n",
        "\n",
        "Normalize(mean, std): Standardizes pixel values to a mean of (0.4914, 0.4822, 0.4465) and std of (0.2023, 0.1994, 0.2010), helping the model converge faster.\n"
      ],
      "metadata": {
        "id": "MCNib8fBOoHv"
      }
    },
    {
      "cell_type": "markdown",
      "metadata": {
        "id": "lHl6i1gP-zfT"
      },
      "source": [
        "## Step 2: Set up dataset and dataloader\n"
      ]
    },
    {
      "cell_type": "code",
      "source": [
        "# Do NOT change these\n",
        "from tools.dataset import CIFAR10\n",
        "from torch.utils.data import DataLoader\n",
        "\n",
        "# A few arguments, do NOT change these\n",
        "DATA_ROOT = \"./data\"\n",
        "TRAIN_BATCH_SIZE = 128\n",
        "VAL_BATCH_SIZE = 100\n",
        "\n",
        "# Construct dataset\n",
        "train_set = CIFAR10(\n",
        "    root=DATA_ROOT,\n",
        "    mode='train',\n",
        "    download=True,\n",
        "    transform=transform_train  # Apply training preprocessing\n",
        ")\n",
        "\n",
        "val_set = CIFAR10(\n",
        "    root=DATA_ROOT,\n",
        "    mode='val',\n",
        "    download=True,\n",
        "    transform=transform_val  # Apply validation preprocessing\n",
        ")\n",
        "\n",
        "# Construct dataloaders\n",
        "train_loader = DataLoader(\n",
        "    train_set,\n",
        "    batch_size=TRAIN_BATCH_SIZE,  # Use predefined batch size\n",
        "    shuffle=True,  # Shuffle training data for randomness\n",
        "    num_workers=4  # Speed up data loading\n",
        ")\n",
        "\n",
        "val_loader = DataLoader(\n",
        "    val_set,\n",
        "    batch_size=VAL_BATCH_SIZE,  # Use predefined batch size\n",
        "    shuffle=False,  # No need to shuffle validation data\n",
        "    num_workers=4\n",
        ")\n",
        "\n",
        "# Sanity Check: Print dataset sizes\n",
        "print(f\"Train dataset size: {len(train_set)} images\")\n",
        "print(f\"Validation dataset size: {len(val_set)} images\")\n",
        "\n",
        "# Check a single batch\n",
        "sample_batch, sample_labels = next(iter(train_loader))\n",
        "print(f\"Sample batch shape: {sample_batch.shape}, Labels shape: {sample_labels.shape}\")\n"
      ],
      "metadata": {
        "colab": {
          "base_uri": "https://localhost:8080/"
        },
        "id": "ElpvReM0QMta",
        "outputId": "2d551b52-e956-4a23-a57d-f21b5727a8a6"
      },
      "execution_count": 9,
      "outputs": [
        {
          "output_type": "stream",
          "name": "stdout",
          "text": [
            "Downloading https://www.dropbox.com/s/s8orza214q45b23/cifar10_trainval_F22.zip?dl=1 to ./data/cifar10_trainval_F22.zip\n"
          ]
        },
        {
          "output_type": "stream",
          "name": "stderr",
          "text": [
            "141746176it [00:12, 11476910.33it/s]                               \n"
          ]
        },
        {
          "output_type": "stream",
          "name": "stdout",
          "text": [
            "Extracting ./data/cifar10_trainval_F22.zip to ./data\n",
            "Files already downloaded and verified\n",
            "Using downloaded and verified file: ./data/cifar10_trainval_F22.zip\n",
            "Extracting ./data/cifar10_trainval_F22.zip to ./data\n",
            "Files already downloaded and verified\n",
            "Train dataset size: 45000 images\n",
            "Validation dataset size: 5000 images\n",
            "Sample batch shape: torch.Size([128, 3, 32, 32]), Labels shape: torch.Size([128])\n"
          ]
        }
      ]
    },
    {
      "cell_type": "markdown",
      "metadata": {
        "id": "lOaGEcjw-zfT"
      },
      "source": [
        "## Step 3: Instantiate SimpleNN model and deploy it to GPU devices."
      ]
    },
    {
      "cell_type": "code",
      "execution_count": 10,
      "metadata": {
        "colab": {
          "base_uri": "https://localhost:8080/"
        },
        "id": "AdS3I9rs-zfU",
        "outputId": "bf6baa7a-b862-447f-eff5-1879fc58b0dc"
      },
      "outputs": [
        {
          "output_type": "stream",
          "name": "stdout",
          "text": [
            "Using device: cuda\n",
            "Parameter device: cuda:0\n"
          ]
        }
      ],
      "source": [
        "device = torch.device(\"cuda\" if torch.cuda.is_available() else \"cpu\")\n",
        "print(f\"Using device: {device}\")\n",
        "\n",
        "# Instantiate the SimpleNN model\n",
        "model = SimpleNN().to(device)  # Move model to GPU if available\n",
        "\n",
        "# Verify that model parameters are on the correct device\n",
        "for param in model.parameters():\n",
        "    print(f\"Parameter device: {param.device}\")\n",
        "    break  # Only need to check one parameter to confirm"
      ]
    },
    {
      "cell_type": "markdown",
      "metadata": {
        "id": "WknGJMp1-zfU"
      },
      "source": [
        "## Step 4: Set up the loss function and optimizer\n",
        "Loss function/objective function is used to provide \"feedback\" for the neural networks. Typically, we use multi-class cross-entropy as the loss function for classification models. As for the optimizer, we will use SGD with momentum."
      ]
    },
    {
      "cell_type": "code",
      "source": [
        "import torch.nn as nn\n",
        "import torch.optim as optim\n",
        "\n",
        "# Hyperparameters (Do NOT change)\n",
        "INITIAL_LR = 0.01  # Initial learning rate\n",
        "MOMENTUM = 0.9  # Momentum for optimizer\n",
        "REG = 1e-4  # L2 regularization (weight decay)\n",
        "\n",
        "# Create loss function (Cross-Entropy Loss)\n",
        "criterion = nn.CrossEntropyLoss()\n",
        "\n",
        "# Add optimizer (SGD with Momentum and L2 Regularization)\n",
        "optimizer = optim.SGD(\n",
        "    model.parameters(),  # Optimizing model parameters\n",
        "    lr=INITIAL_LR,  # Learning rate\n",
        "    momentum=MOMENTUM,  # Momentum factor\n",
        "    weight_decay=REG  # L2 regularization\n",
        ")\n",
        "\n",
        "# Sanity check: Print optimizer details\n",
        "print(optimizer)"
      ],
      "metadata": {
        "colab": {
          "base_uri": "https://localhost:8080/"
        },
        "id": "n7qWQMaSie7z",
        "outputId": "79f36ed0-2227-42e8-bac9-ffb02b4cc77d"
      },
      "execution_count": 11,
      "outputs": [
        {
          "output_type": "stream",
          "name": "stdout",
          "text": [
            "SGD (\n",
            "Parameter Group 0\n",
            "    dampening: 0\n",
            "    differentiable: False\n",
            "    foreach: None\n",
            "    fused: None\n",
            "    lr: 0.01\n",
            "    maximize: False\n",
            "    momentum: 0.9\n",
            "    nesterov: False\n",
            "    weight_decay: 0.0001\n",
            ")\n"
          ]
        }
      ]
    },
    {
      "cell_type": "markdown",
      "metadata": {
        "id": "13GUGlfU-zfU"
      },
      "source": [
        "## Step 5: Start the training process.\n",
        "\n"
      ]
    },
    {
      "cell_type": "code",
      "source": [
        "import torch\n",
        "import os\n",
        "\n",
        "# Hyperparameters\n",
        "EPOCHS = 30  # Total number of training epochs\n",
        "CHECKPOINT_FOLDER = \"./saved_model\"  # Folder for saving model checkpoints\n",
        "\n",
        "# Track best validation accuracy\n",
        "best_val_acc = 0\n",
        "current_learning_rate = INITIAL_LR\n",
        "\n",
        "# Ensure model is on the correct device\n",
        "model.to(device)\n",
        "\n",
        "model.eval()  # Set model to evaluation mode\n",
        "initial_loss = 0\n",
        "total_examples = 0\n",
        "correct_examples = 0\n",
        "\n",
        "with torch.no_grad():  # No gradient calculation\n",
        "    for batch_idx, (inputs, targets) in enumerate(train_loader):\n",
        "        # Copy inputs and targets to the device\n",
        "        inputs, targets = inputs.to(device), targets.to(device)\n",
        "\n",
        "        # Forward pass: compute the output\n",
        "        outputs = model(inputs)\n",
        "\n",
        "        # Compute loss\n",
        "        loss = criterion(outputs, targets)\n",
        "        initial_loss += loss.item()\n",
        "\n",
        "        # Compute accuracy before training\n",
        "        _, predicted = torch.max(outputs, 1)\n",
        "        correct_examples += (predicted == targets).sum().item()\n",
        "        total_examples += targets.size(0)\n",
        "\n",
        "        # Only calculate on a small subset (e.g., 1 batch)\n",
        "        if batch_idx == 0:\n",
        "            break\n",
        "\n",
        "# Compute initial average loss and accuracy\n",
        "initial_loss /= (batch_idx + 1)\n",
        "initial_acc = correct_examples / total_examples\n",
        "print(f\"Initial loss before training: {initial_loss:.4f}, Initial accuracy: {initial_acc:.4f}\")\n",
        "\n",
        "# Start training\n",
        "print(\"==> Training starts!\")\n",
        "print(\"=\"*50)\n",
        "\n",
        "for i in range(EPOCHS):\n",
        "\n",
        "    # Switch to train mode\n",
        "    model.train()\n",
        "\n",
        "    print(\"Epoch %d:\" % i)\n",
        "\n",
        "    # Track accuracy and loss\n",
        "    total_examples = 0\n",
        "    correct_examples = 0\n",
        "    train_loss = 0\n",
        "\n",
        "    # Train the model for 1 epoch\n",
        "    for batch_idx, (inputs, targets) in enumerate(train_loader):\n",
        "\n",
        "        # Copy inputs and targets to the device (GPU or CPU)\n",
        "        inputs, targets = inputs.to(device), targets.to(device)\n",
        "\n",
        "        # Forward pass: compute the output\n",
        "        outputs = model(inputs)\n",
        "\n",
        "        # Compute loss (cross-entropy loss expects raw logits, not softmax)\n",
        "        loss = criterion(outputs, targets)\n",
        "\n",
        "        # Zero the gradients (otherwise they accumulate)\n",
        "        optimizer.zero_grad()\n",
        "\n",
        "        # Backpropagation\n",
        "        loss.backward()\n",
        "\n",
        "        # Apply gradient and update weights\n",
        "        optimizer.step()\n",
        "\n",
        "        # Track total loss\n",
        "        train_loss += loss.item()\n",
        "\n",
        "        # Count correct predictions\n",
        "        _, predicted = torch.max(outputs, 1)  # Get class with highest probability\n",
        "        correct_examples += (predicted == targets).sum().item()\n",
        "        total_examples += targets.size(0)\n",
        "\n",
        "    # Compute average loss and accuracy\n",
        "    avg_loss = train_loss / len(train_loader)\n",
        "    avg_acc = correct_examples / total_examples\n",
        "    print(f\"Training loss: {avg_loss:.4f}, Training accuracy: {avg_acc:.4f}\")\n",
        "\n",
        "    # Validate on the validation dataset\n",
        "\n",
        "    # Switch to evaluation mode\n",
        "    model.eval()\n",
        "\n",
        "    # Track accuracy and loss for validation\n",
        "    total_examples = 0\n",
        "    correct_examples = 0\n",
        "    val_loss = 0\n",
        "\n",
        "    # Disable gradient computation during validation (saves memory)\n",
        "    with torch.no_grad():\n",
        "        for batch_idx, (inputs, targets) in enumerate(val_loader):\n",
        "\n",
        "            # Copy inputs and targets to the device\n",
        "            inputs, targets = inputs.to(device), targets.to(device)\n",
        "\n",
        "            # Forward pass: compute the output\n",
        "            outputs = model(inputs)\n",
        "\n",
        "            # Compute loss\n",
        "            loss = criterion(outputs, targets)\n",
        "            val_loss += loss.item()\n",
        "\n",
        "            # Count correct predictions\n",
        "            _, predicted = torch.max(outputs, 1)\n",
        "            correct_examples += (predicted == targets).sum().item()\n",
        "            total_examples += targets.size(0)\n",
        "\n",
        "    # Compute average loss and accuracy\n",
        "    avg_loss = val_loss / len(val_loader)\n",
        "    avg_acc = correct_examples / total_examples\n",
        "    print(f\"Validation loss: {avg_loss:.4f}, Validation accuracy: {avg_acc:.4f}\")\n",
        "\n",
        "    # Save the model checkpoint if validation accuracy improves\n",
        "    if avg_acc > best_val_acc:\n",
        "        best_val_acc = avg_acc\n",
        "        if not os.path.exists(CHECKPOINT_FOLDER):\n",
        "            os.makedirs(CHECKPOINT_FOLDER)\n",
        "        print(\"Saving best model...\")\n",
        "        state = {'state_dict': model.state_dict(), 'epoch': i, 'lr': current_learning_rate}\n",
        "        torch.save(state, os.path.join(CHECKPOINT_FOLDER, 'simplenn.pth'))\n",
        "\n",
        "    print('')\n",
        "\n",
        "print(\"=\"*50)\n",
        "print(f\"==> Optimization finished! Best validation accuracy: {best_val_acc:.4f}\")"
      ],
      "metadata": {
        "colab": {
          "base_uri": "https://localhost:8080/"
        },
        "id": "ItUnWRx2kfzR",
        "outputId": "2ac77823-6f07-4502-fde4-103b4414c1ea"
      },
      "execution_count": 12,
      "outputs": [
        {
          "output_type": "stream",
          "name": "stdout",
          "text": [
            "Initial loss before training: 2.3082, Initial accuracy: 0.1094\n",
            "==> Training starts!\n",
            "==================================================\n",
            "Epoch 0:\n",
            "Training loss: 1.9076, Training accuracy: 0.2962\n",
            "Validation loss: 1.5473, Validation accuracy: 0.4420\n",
            "Saving best model...\n",
            "\n",
            "Epoch 1:\n",
            "Training loss: 1.4063, Training accuracy: 0.4893\n",
            "Validation loss: 1.3012, Validation accuracy: 0.5356\n",
            "Saving best model...\n",
            "\n",
            "Epoch 2:\n",
            "Training loss: 1.2344, Training accuracy: 0.5608\n",
            "Validation loss: 1.2531, Validation accuracy: 0.5580\n",
            "Saving best model...\n",
            "\n",
            "Epoch 3:\n",
            "Training loss: 1.1196, Training accuracy: 0.6018\n",
            "Validation loss: 1.1446, Validation accuracy: 0.5974\n",
            "Saving best model...\n",
            "\n",
            "Epoch 4:\n",
            "Training loss: 1.0255, Training accuracy: 0.6388\n",
            "Validation loss: 1.1300, Validation accuracy: 0.6068\n",
            "Saving best model...\n",
            "\n",
            "Epoch 5:\n",
            "Training loss: 0.9589, Training accuracy: 0.6639\n",
            "Validation loss: 1.0547, Validation accuracy: 0.6326\n",
            "Saving best model...\n",
            "\n",
            "Epoch 6:\n",
            "Training loss: 0.8937, Training accuracy: 0.6861\n",
            "Validation loss: 1.0101, Validation accuracy: 0.6518\n",
            "Saving best model...\n",
            "\n",
            "Epoch 7:\n",
            "Training loss: 0.8381, Training accuracy: 0.7070\n",
            "Validation loss: 1.0991, Validation accuracy: 0.6282\n",
            "\n",
            "Epoch 8:\n",
            "Training loss: 0.7877, Training accuracy: 0.7223\n",
            "Validation loss: 1.0287, Validation accuracy: 0.6536\n",
            "Saving best model...\n",
            "\n",
            "Epoch 9:\n",
            "Training loss: 0.7387, Training accuracy: 0.7400\n",
            "Validation loss: 1.0295, Validation accuracy: 0.6582\n",
            "Saving best model...\n",
            "\n",
            "Epoch 10:\n",
            "Training loss: 0.6954, Training accuracy: 0.7534\n",
            "Validation loss: 1.0365, Validation accuracy: 0.6626\n",
            "Saving best model...\n",
            "\n",
            "Epoch 11:\n",
            "Training loss: 0.6522, Training accuracy: 0.7699\n",
            "Validation loss: 1.0619, Validation accuracy: 0.6640\n",
            "Saving best model...\n",
            "\n",
            "Epoch 12:\n",
            "Training loss: 0.6184, Training accuracy: 0.7819\n",
            "Validation loss: 1.1010, Validation accuracy: 0.6630\n",
            "\n",
            "Epoch 13:\n",
            "Training loss: 0.5872, Training accuracy: 0.7918\n",
            "Validation loss: 1.1294, Validation accuracy: 0.6500\n",
            "\n",
            "Epoch 14:\n",
            "Training loss: 0.5543, Training accuracy: 0.8040\n",
            "Validation loss: 1.1303, Validation accuracy: 0.6494\n",
            "\n",
            "Epoch 15:\n",
            "Training loss: 0.5142, Training accuracy: 0.8172\n",
            "Validation loss: 1.2289, Validation accuracy: 0.6432\n",
            "\n",
            "Epoch 16:\n",
            "Training loss: 0.4885, Training accuracy: 0.8270\n",
            "Validation loss: 1.2336, Validation accuracy: 0.6444\n",
            "\n",
            "Epoch 17:\n",
            "Training loss: 0.4705, Training accuracy: 0.8320\n",
            "Validation loss: 1.2575, Validation accuracy: 0.6544\n",
            "\n",
            "Epoch 18:\n",
            "Training loss: 0.4223, Training accuracy: 0.8498\n",
            "Validation loss: 1.3386, Validation accuracy: 0.6386\n",
            "\n",
            "Epoch 19:\n",
            "Training loss: 0.4246, Training accuracy: 0.8496\n",
            "Validation loss: 1.3440, Validation accuracy: 0.6430\n",
            "\n",
            "Epoch 20:\n",
            "Training loss: 0.3939, Training accuracy: 0.8590\n",
            "Validation loss: 1.4330, Validation accuracy: 0.6426\n",
            "\n",
            "Epoch 21:\n",
            "Training loss: 0.3908, Training accuracy: 0.8593\n",
            "Validation loss: 1.4549, Validation accuracy: 0.6376\n",
            "\n",
            "Epoch 22:\n",
            "Training loss: 0.3633, Training accuracy: 0.8705\n",
            "Validation loss: 1.5498, Validation accuracy: 0.6298\n",
            "\n",
            "Epoch 23:\n",
            "Training loss: 0.3327, Training accuracy: 0.8811\n",
            "Validation loss: 1.6595, Validation accuracy: 0.6374\n",
            "\n",
            "Epoch 24:\n",
            "Training loss: 0.3189, Training accuracy: 0.8860\n",
            "Validation loss: 1.5888, Validation accuracy: 0.6354\n",
            "\n",
            "Epoch 25:\n",
            "Training loss: 0.3225, Training accuracy: 0.8849\n",
            "Validation loss: 1.6007, Validation accuracy: 0.6340\n",
            "\n",
            "Epoch 26:\n",
            "Training loss: 0.2945, Training accuracy: 0.8936\n",
            "Validation loss: 1.7213, Validation accuracy: 0.6340\n",
            "\n",
            "Epoch 27:\n",
            "Training loss: 0.2963, Training accuracy: 0.8931\n",
            "Validation loss: 1.7312, Validation accuracy: 0.6286\n",
            "\n",
            "Epoch 28:\n",
            "Training loss: 0.2667, Training accuracy: 0.9046\n",
            "Validation loss: 1.9379, Validation accuracy: 0.6178\n",
            "\n",
            "Epoch 29:\n",
            "Training loss: 0.2761, Training accuracy: 0.9029\n",
            "Validation loss: 1.9245, Validation accuracy: 0.6184\n",
            "\n",
            "==================================================\n",
            "==> Optimization finished! Best validation accuracy: 0.6640\n"
          ]
        }
      ]
    },
    {
      "cell_type": "markdown",
      "source": [
        "- Initial loss is around 2.3 because of the cross-entropy formula applied to a random model. It is related to the number of classes in CIFAR-10 since a uniform distribution across 10 classes results in a baseline entropy loss of ~2.3.Initial accuracy is about 10%, which matches the probability of guessing randomly.\n",
        "\n",
        "- The model overfits overtime as training accuracy being much higher than validation accuracy and validation loss greater than training loss.\n",
        "\n",
        "- The model is memorizing training data rather than generalizing.\n"
      ],
      "metadata": {
        "id": "OiSBd-4Bx4nZ"
      }
    },
    {
      "cell_type": "markdown",
      "metadata": {
        "id": "03mRvLSm-zfU"
      },
      "source": [
        "# Training with learning rate decay\n",
        "\n"
      ]
    },
    {
      "cell_type": "code",
      "execution_count": 14,
      "metadata": {
        "colab": {
          "base_uri": "https://localhost:8080/"
        },
        "id": "JsLgZAfi-zfU",
        "outputId": "6bf8e32a-c05a-4df5-b843-e000b4043a5d"
      },
      "outputs": [
        {
          "output_type": "stream",
          "name": "stdout",
          "text": [
            "Initial loss before training: 2.2989, Initial accuracy: 0.1172\n",
            "==> Training starts!\n",
            "==================================================\n",
            "Epoch 0:\n",
            "Training loss: 1.8992, Training accuracy: 0.3097\n",
            "Validation loss: 1.5991, Validation accuracy: 0.4242\n",
            "Saving best model...\n",
            "\n",
            "Epoch 1:\n",
            "Training loss: 1.4656, Training accuracy: 0.4699\n",
            "Validation loss: 1.4124, Validation accuracy: 0.4956\n",
            "Saving best model...\n",
            "\n",
            "Epoch 2:\n",
            "Training loss: 1.2984, Training accuracy: 0.5318\n",
            "Validation loss: 1.2538, Validation accuracy: 0.5642\n",
            "Saving best model...\n",
            "\n",
            "Epoch 3:\n",
            "Training loss: 1.1737, Training accuracy: 0.5850\n",
            "Validation loss: 1.1776, Validation accuracy: 0.5938\n",
            "Saving best model...\n",
            "\n",
            "Epoch 4:\n",
            "Training loss: 1.0763, Training accuracy: 0.6197\n",
            "Validation loss: 1.1365, Validation accuracy: 0.6046\n",
            "Saving best model...\n",
            "\n",
            "Epoch 5:\n",
            "Training loss: 1.0011, Training accuracy: 0.6467\n",
            "Validation loss: 1.0616, Validation accuracy: 0.6356\n",
            "Saving best model...\n",
            "\n",
            "Epoch 6:\n",
            "Training loss: 0.9310, Training accuracy: 0.6727\n",
            "Validation loss: 1.0610, Validation accuracy: 0.6350\n",
            "\n",
            "Epoch 7:\n",
            "Training loss: 0.8798, Training accuracy: 0.6897\n",
            "Validation loss: 1.0728, Validation accuracy: 0.6356\n",
            "\n",
            "Epoch 8:\n",
            "Training loss: 0.8146, Training accuracy: 0.7149\n",
            "Validation loss: 1.0532, Validation accuracy: 0.6520\n",
            "Saving best model...\n",
            "\n",
            "Epoch 9:\n",
            "Training loss: 0.7730, Training accuracy: 0.7276\n",
            "Validation loss: 1.0613, Validation accuracy: 0.6486\n",
            "\n",
            "Current learning rate has decayed to 0.001000\n",
            "Epoch 10:\n",
            "Training loss: 0.5962, Training accuracy: 0.7925\n",
            "Validation loss: 1.0074, Validation accuracy: 0.6716\n",
            "Saving best model...\n",
            "\n",
            "Epoch 11:\n",
            "Training loss: 0.5578, Training accuracy: 0.8076\n",
            "Validation loss: 1.0217, Validation accuracy: 0.6660\n",
            "\n",
            "Epoch 12:\n",
            "Training loss: 0.5392, Training accuracy: 0.8146\n",
            "Validation loss: 1.0342, Validation accuracy: 0.6684\n",
            "\n",
            "Epoch 13:\n",
            "Training loss: 0.5250, Training accuracy: 0.8210\n",
            "Validation loss: 1.0272, Validation accuracy: 0.6728\n",
            "Saving best model...\n",
            "\n",
            "Epoch 14:\n",
            "Training loss: 0.5108, Training accuracy: 0.8239\n",
            "Validation loss: 1.0452, Validation accuracy: 0.6698\n",
            "\n",
            "Epoch 15:\n",
            "Training loss: 0.4981, Training accuracy: 0.8298\n",
            "Validation loss: 1.0522, Validation accuracy: 0.6722\n",
            "\n",
            "Epoch 16:\n",
            "Training loss: 0.4873, Training accuracy: 0.8330\n",
            "Validation loss: 1.0656, Validation accuracy: 0.6704\n",
            "\n",
            "Epoch 17:\n",
            "Training loss: 0.4758, Training accuracy: 0.8367\n",
            "Validation loss: 1.0840, Validation accuracy: 0.6624\n",
            "\n",
            "Epoch 18:\n",
            "Training loss: 0.4643, Training accuracy: 0.8426\n",
            "Validation loss: 1.0850, Validation accuracy: 0.6692\n",
            "\n",
            "Epoch 19:\n",
            "Training loss: 0.4529, Training accuracy: 0.8468\n",
            "Validation loss: 1.1025, Validation accuracy: 0.6672\n",
            "\n",
            "Current learning rate has decayed to 0.000100\n",
            "Epoch 20:\n",
            "Training loss: 0.4247, Training accuracy: 0.8589\n",
            "Validation loss: 1.1048, Validation accuracy: 0.6674\n",
            "\n",
            "Epoch 21:\n",
            "Training loss: 0.4213, Training accuracy: 0.8601\n",
            "Validation loss: 1.1104, Validation accuracy: 0.6666\n",
            "\n",
            "Epoch 22:\n",
            "Training loss: 0.4193, Training accuracy: 0.8608\n",
            "Validation loss: 1.1113, Validation accuracy: 0.6670\n",
            "\n",
            "Epoch 23:\n",
            "Training loss: 0.4181, Training accuracy: 0.8612\n",
            "Validation loss: 1.1167, Validation accuracy: 0.6670\n",
            "\n",
            "Epoch 24:\n",
            "Training loss: 0.4168, Training accuracy: 0.8612\n",
            "Validation loss: 1.1181, Validation accuracy: 0.6662\n",
            "\n",
            "Epoch 25:\n",
            "Training loss: 0.4154, Training accuracy: 0.8622\n",
            "Validation loss: 1.1210, Validation accuracy: 0.6660\n",
            "\n",
            "Epoch 26:\n",
            "Training loss: 0.4141, Training accuracy: 0.8622\n",
            "Validation loss: 1.1225, Validation accuracy: 0.6668\n",
            "\n",
            "Epoch 27:\n",
            "Training loss: 0.4130, Training accuracy: 0.8628\n",
            "Validation loss: 1.1248, Validation accuracy: 0.6672\n",
            "\n",
            "Epoch 28:\n",
            "Training loss: 0.4116, Training accuracy: 0.8634\n",
            "Validation loss: 1.1260, Validation accuracy: 0.6674\n",
            "\n",
            "Epoch 29:\n",
            "Training loss: 0.4104, Training accuracy: 0.8637\n",
            "Validation loss: 1.1299, Validation accuracy: 0.6684\n",
            "\n",
            "==================================================\n",
            "==> Optimization finished! Best validation accuracy: 0.6728\n"
          ]
        }
      ],
      "source": [
        "# Hyperparameters\n",
        "EPOCHS = 30  # Total number of training epochs\n",
        "DECAY_EPOCHS = 10  # Decay learning rate every 10 epochs\n",
        "DECAY = 0.1  # Reduce learning rate by a factor of 0.1\n",
        "\n",
        "CHECKPOINT_FOLDER = \"./saved_model\"  # Folder for saving model checkpoints\n",
        "\n",
        "# Track best validation accuracy\n",
        "best_val_acc = 0\n",
        "current_learning_rate = INITIAL_LR\n",
        "\n",
        "# Reinitialize a fresh model (important to reset weights!)\n",
        "model = SimpleNN().to(device)  # Create a new model\n",
        "\n",
        "# Reset optimizer before the second training run\n",
        "optimizer = optim.SGD(model.parameters(), lr=INITIAL_LR, momentum=MOMENTUM, weight_decay=REG)\n",
        "\n",
        "model.eval()  # Set model to evaluation mode\n",
        "initial_loss = 0\n",
        "total_examples = 0\n",
        "correct_examples = 0\n",
        "\n",
        "with torch.no_grad():  # No gradient calculation\n",
        "    for batch_idx, (inputs, targets) in enumerate(train_loader):\n",
        "        # Copy inputs and targets to the device\n",
        "        inputs, targets = inputs.to(device), targets.to(device)\n",
        "\n",
        "        # Forward pass: compute the output\n",
        "        outputs = model(inputs)\n",
        "\n",
        "        # Compute loss\n",
        "        loss = criterion(outputs, targets)\n",
        "        initial_loss += loss.item()\n",
        "\n",
        "        # Compute accuracy before training\n",
        "        _, predicted = torch.max(outputs, 1)\n",
        "        correct_examples += (predicted == targets).sum().item()\n",
        "        total_examples += targets.size(0)\n",
        "\n",
        "        # Only calculate on a small subset (e.g., 1 batch)\n",
        "        if batch_idx == 0:\n",
        "            break\n",
        "\n",
        "# Compute initial average loss and accuracy\n",
        "initial_loss /= (batch_idx + 1)\n",
        "initial_acc = correct_examples / total_examples\n",
        "print(f\"Initial loss before training: {initial_loss:.4f}, Initial accuracy: {initial_acc:.4f}\")\n",
        "\n",
        "# Start training\n",
        "print(\"==> Training starts!\")\n",
        "print(\"=\"*50)\n",
        "\n",
        "for i in range(EPOCHS):\n",
        "    # Apply learning rate decay\n",
        "    if i % DECAY_EPOCHS == 0 and i != 0:\n",
        "        current_learning_rate *= DECAY  # Reduce learning rate\n",
        "        for param_group in optimizer.param_groups:\n",
        "            param_group['lr'] = current_learning_rate\n",
        "        print(f\"Current learning rate has decayed to {current_learning_rate:.6f}\")\n",
        "\n",
        "    # Switch to train mode\n",
        "    model.train()\n",
        "\n",
        "    print(\"Epoch %d:\" % i)\n",
        "\n",
        "    # Track accuracy and loss\n",
        "    total_examples = 0\n",
        "    correct_examples = 0\n",
        "    train_loss = 0\n",
        "\n",
        "    # Train the model for 1 epoch\n",
        "    for batch_idx, (inputs, targets) in enumerate(train_loader):\n",
        "\n",
        "        # Copy inputs and targets to the device (GPU or CPU)\n",
        "        inputs, targets = inputs.to(device), targets.to(device)\n",
        "\n",
        "        # Forward pass: compute the output\n",
        "        outputs = model(inputs)\n",
        "\n",
        "        # Compute loss (cross-entropy loss expects raw logits, not softmax)\n",
        "        loss = criterion(outputs, targets)\n",
        "\n",
        "        # Zero the gradients (otherwise they accumulate)\n",
        "        optimizer.zero_grad()\n",
        "\n",
        "        # Backpropagation\n",
        "        loss.backward()\n",
        "\n",
        "        # Apply gradient and update weights\n",
        "        optimizer.step()\n",
        "\n",
        "        # Track total loss\n",
        "        train_loss += loss.item()\n",
        "\n",
        "        # Count correct predictions\n",
        "        _, predicted = torch.max(outputs, 1)  # Get class with highest probability\n",
        "        correct_examples += (predicted == targets).sum().item()\n",
        "        total_examples += targets.size(0)\n",
        "\n",
        "    # Compute average loss and accuracy\n",
        "    avg_loss = train_loss / len(train_loader)\n",
        "    avg_acc = correct_examples / total_examples\n",
        "    print(f\"Training loss: {avg_loss:.4f}, Training accuracy: {avg_acc:.4f}\")\n",
        "\n",
        "    # Validate on the validation dataset\n",
        "\n",
        "    # Switch to evaluation mode\n",
        "    model.eval()\n",
        "\n",
        "    # Track accuracy and loss for validation\n",
        "    total_examples = 0\n",
        "    correct_examples = 0\n",
        "    val_loss = 0\n",
        "\n",
        "    # Disable gradient computation during validation (saves memory)\n",
        "    with torch.no_grad():\n",
        "        for batch_idx, (inputs, targets) in enumerate(val_loader):\n",
        "\n",
        "            # Copy inputs and targets to the device\n",
        "            inputs, targets = inputs.to(device), targets.to(device)\n",
        "\n",
        "            # Forward pass: compute the output\n",
        "            outputs = model(inputs)\n",
        "\n",
        "            # Compute loss\n",
        "            loss = criterion(outputs, targets)\n",
        "            val_loss += loss.item()\n",
        "\n",
        "            # Count correct predictions\n",
        "            _, predicted = torch.max(outputs, 1)\n",
        "            correct_examples += (predicted == targets).sum().item()\n",
        "            total_examples += targets.size(0)\n",
        "\n",
        "    # Compute average loss and accuracy\n",
        "    avg_loss = val_loss / len(val_loader)\n",
        "    avg_acc = correct_examples / total_examples\n",
        "    print(f\"Validation loss: {avg_loss:.4f}, Validation accuracy: {avg_acc:.4f}\")\n",
        "\n",
        "    # Save the model checkpoint if validation accuracy improves\n",
        "    if avg_acc > best_val_acc:\n",
        "        best_val_acc = avg_acc\n",
        "        if not os.path.exists(CHECKPOINT_FOLDER):\n",
        "            os.makedirs(CHECKPOINT_FOLDER)\n",
        "        print(\"Saving best model...\")\n",
        "        state = {'state_dict': model.state_dict(), 'epoch': i, 'lr': current_learning_rate}\n",
        "        torch.save(state, os.path.join(CHECKPOINT_FOLDER, 'simplenn_with_decay.pth'))\n",
        "\n",
        "    print('')\n",
        "\n",
        "print(\"=\"*50)\n",
        "print(f\"==> Optimization finished! Best validation accuracy: {best_val_acc:.4f}\")"
      ]
    },
    {
      "cell_type": "markdown",
      "source": [
        "- Best validation accuracy with no learning rate decay: 0.6640\n",
        "- Best validation accuracy with learning rate decay: 0.6728\n",
        "\n",
        "Benifit of weight decay:\n",
        "- better generalization with higher validation accuracy\n",
        "- less overfitting with smaller gap between training & validation accuracy\n",
        "- Decaying the learning rate allows the model to fine-tune weights better in later epochs"
      ],
      "metadata": {
        "id": "CrnXtryYzNj_"
      }
    }
  ],
  "metadata": {
    "kernelspec": {
      "display_name": "Python 3",
      "name": "python3"
    },
    "language_info": {
      "codemirror_mode": {
        "name": "ipython",
        "version": 3
      },
      "file_extension": ".py",
      "mimetype": "text/x-python",
      "name": "python",
      "nbconvert_exporter": "python",
      "pygments_lexer": "ipython3",
      "version": "3.8.12"
    },
    "colab": {
      "provenance": [],
      "gpuType": "L4",
      "include_colab_link": true
    },
    "accelerator": "GPU"
  },
  "nbformat": 4,
  "nbformat_minor": 0
}